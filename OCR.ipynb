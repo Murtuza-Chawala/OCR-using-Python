{
 "cells": [
  {
   "cell_type": "code",
   "execution_count": 2,
   "metadata": {},
   "outputs": [
    {
     "name": "stdout",
     "output_type": "stream",
     "text": [
      "Further information may be obtained\n",
      "M.A., Fellow and Lecturer in Chemistry, J\n",
      "from Prof. A. Gilligan, D.Sc., Derartmen’\n",
      "Lee@s, and from Mr. A. H. Worrall, M.A.,\n",
      "\n",
      "Colleges, Jersey.\n"
     ]
    }
   ],
   "source": [
    "from PIL import Image\n",
    "import pytesseract\n",
    "import cv2\n",
    "\n",
    "image = cv2.imread(\"ocr2.jpg\")\n",
    "cv2.imshow('Img',image)\n",
    "cv2.waitKey(0)\n",
    "cv2.waitKey(0)\n",
    "cv2.destroyAllWindows()\n",
    "gray = cv2.cvtColor(image, cv2.COLOR_BGR2GRAY)\n",
    "gray = cv2.threshold(gray,0,255,cv2.THRESH_BINARY | cv2.THRESH_OTSU)[1]\n",
    "cv2.imshow('Img_Threshold',gray)\n",
    "cv2.waitKey(0)\n",
    "#cv2.destroyAllWindows()\n",
    "gray = cv2.medianBlur(gray,3)\n",
    "cv2.imshow('Img_Blur',gray)\n",
    "\n",
    "#cv2.destroyAllWindows()\n",
    "text = pytesseract.image_to_string(gray)\n",
    "#text = pytesseract.image_to_string(gray,lang='ara')\n",
    "print(text)\n",
    "cv2.waitKey(0)\n",
    "cv2.waitKey(0)\n",
    "cv2.destroyAllWindows()"
   ]
  }
 ],
 "metadata": {
  "kernelspec": {
   "display_name": "Python 3",
   "language": "python",
   "name": "python3"
  },
  "language_info": {
   "codemirror_mode": {
    "name": "ipython",
    "version": 3
   },
   "file_extension": ".py",
   "mimetype": "text/x-python",
   "name": "python",
   "nbconvert_exporter": "python",
   "pygments_lexer": "ipython3",
   "version": "3.6.8"
  }
 },
 "nbformat": 4,
 "nbformat_minor": 2
}
